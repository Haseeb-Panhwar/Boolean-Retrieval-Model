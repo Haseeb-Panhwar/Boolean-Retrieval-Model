{
  "cells": [
    {
      "cell_type": "code",
      "execution_count": null,
      "metadata": {
        "colab": {
          "base_uri": "https://localhost:8080/"
        },
        "id": "7ufpal5Sjp19",
        "outputId": "aff0d403-6ae3-4d1e-9249-d73fdd733120"
      },
      "outputs": [
        {
          "name": "stderr",
          "output_type": "stream",
          "text": [
            "[nltk_data] Downloading package punkt to /root/nltk_data...\n",
            "[nltk_data]   Package punkt is already up-to-date!\n"
          ]
        },
        {
          "data": {
            "text/plain": [
              "True"
            ]
          },
          "execution_count": 9,
          "metadata": {},
          "output_type": "execute_result"
        }
      ],
      "source": [
        "import nltk\n",
        "import string\n",
        "from nltk.tokenize import word_tokenize\n",
        "from nltk.stem import PorterStemmer\n",
        "nltk.download('punkt')"
      ]
    },
    {
      "cell_type": "code",
      "execution_count": null,
      "metadata": {
        "id": "UGVD-874kpxn"
      },
      "outputs": [],
      "source": [
        "Test_Sentences =\"He was an operator for operting a textile machine that works in operation department\""
      ]
    },
    {
      "cell_type": "code",
      "execution_count": null,
      "metadata": {
        "id": "RVZJ9jjsk_RK"
      },
      "outputs": [],
      "source": [
        "words = word_tokenize(Test_Sentences)"
      ]
    },
    {
      "cell_type": "code",
      "execution_count": null,
      "metadata": {
        "id": "YxANYrx-lisj"
      },
      "outputs": [],
      "source": [
        "ps = PorterStemmer()"
      ]
    },
    {
      "cell_type": "code",
      "execution_count": null,
      "metadata": {
        "colab": {
          "base_uri": "https://localhost:8080/"
        },
        "id": "BCIJkgVTlS2b",
        "outputId": "435f3b9b-3b82-4280-cd60-97b791b78872"
      },
      "outputs": [
        {
          "name": "stdout",
          "output_type": "stream",
          "text": [
            "--Word--            --Stem--            \n",
            "He                  he                  \n",
            "was                 wa                  \n",
            "an                  an                  \n",
            "operator            oper                \n",
            "for                 for                 \n",
            "operting            opert               \n",
            "a                   a                   \n",
            "textile             textil              \n",
            "machine             machin              \n",
            "that                that                \n",
            "works               work                \n",
            "in                  in                  \n",
            "operation           oper                \n",
            "department          depart              \n"
          ]
        }
      ],
      "source": [
        "print(\"{0:20}{1:20}\".format(\"--Word--\",\"--Stem--\"))\n",
        "for w in words:\n",
        "    print (\"{0:20}{1:20}\".format(w, ps.stem(w)))"
      ]
    },
    {
      "cell_type": "code",
      "execution_count": null,
      "metadata": {
        "id": "2T3o7sHMoLaS"
      },
      "outputs": [],
      "source": [
        "from nltk.stem import SnowballStemmer\n",
        "sb = SnowballStemmer(language='english')"
      ]
    },
    {
      "cell_type": "code",
      "execution_count": null,
      "metadata": {
        "colab": {
          "base_uri": "https://localhost:8080/"
        },
        "id": "0tozlgT1obRc",
        "outputId": "40ff1e3d-2e1a-4c33-f40a-c4213d5132ad"
      },
      "outputs": [
        {
          "name": "stdout",
          "output_type": "stream",
          "text": [
            "--Word--            --Stem--            \n",
            "He                  he                  \n",
            "was                 was                 \n",
            "an                  an                  \n",
            "operator            oper                \n",
            "for                 for                 \n",
            "operting            opert               \n",
            "a                   a                   \n",
            "textile             textil              \n",
            "machine             machin              \n",
            "that                that                \n",
            "works               work                \n",
            "in                  in                  \n",
            "operation           oper                \n",
            "department          depart              \n"
          ]
        }
      ],
      "source": [
        "print(\"{0:20}{1:20}\".format(\"--Word--\",\"--Stem--\"))\n",
        "for w in words:\n",
        "    print (\"{0:20}{1:20}\".format(w, sb.stem(w)))"
      ]
    },
    {
      "cell_type": "code",
      "execution_count": null,
      "metadata": {
        "id": "_HLWfc59pUbN"
      },
      "outputs": [],
      "source": [
        "from nltk.stem import LancasterStemmer\n",
        "lancaster = LancasterStemmer()"
      ]
    },
    {
      "cell_type": "code",
      "execution_count": null,
      "metadata": {
        "colab": {
          "base_uri": "https://localhost:8080/"
        },
        "id": "4ZDFkxWqpZKE",
        "outputId": "006ec410-6364-4e63-9221-f8dfbd926677"
      },
      "outputs": [
        {
          "name": "stdout",
          "output_type": "stream",
          "text": [
            "--Word--            --Stem--            \n",
            "He                  he                  \n",
            "was                 was                 \n",
            "an                  an                  \n",
            "operator            op                  \n",
            "for                 for                 \n",
            "operting            opert               \n",
            "a                   a                   \n",
            "textile             textil              \n",
            "machine             machin              \n",
            "that                that                \n",
            "works               work                \n",
            "in                  in                  \n",
            "operation           op                  \n",
            "department          depart              \n"
          ]
        }
      ],
      "source": [
        "print(\"{0:20}{1:20}\".format(\"--Word--\",\"--Stem--\"))\n",
        "for w in words:\n",
        "    print (\"{0:20}{1:20}\".format(w, lancaster.stem(w)))"
      ]
    },
    {
      "cell_type": "code",
      "execution_count": null,
      "metadata": {
        "id": "gct69jDUpt6c"
      },
      "outputs": [],
      "source": [
        "from nltk.stem import RegexpStemmer\n",
        "regexp = RegexpStemmer('ing$|s$|e$|able$|ment$|tion$', min=4)"
      ]
    },
    {
      "cell_type": "code",
      "execution_count": null,
      "metadata": {
        "colab": {
          "base_uri": "https://localhost:8080/"
        },
        "id": "Qod2BEeEp665",
        "outputId": "2610d374-794c-46bc-eec0-b2dc5e98a62d"
      },
      "outputs": [
        {
          "name": "stdout",
          "output_type": "stream",
          "text": [
            "--Word--            --Stem--            \n",
            "He                  He                  \n",
            "was                 was                 \n",
            "an                  an                  \n",
            "operator            operator            \n",
            "for                 for                 \n",
            "operting            opert               \n",
            "a                   a                   \n",
            "textile             textil              \n",
            "machine             machin              \n",
            "that                that                \n",
            "works               work                \n",
            "in                  in                  \n",
            "operation           opera               \n",
            "department          depart              \n"
          ]
        }
      ],
      "source": [
        "print(\"{0:20}{1:20}\".format(\"--Word--\",\"--Stem--\"))\n",
        "for w in words:\n",
        "    print (\"{0:20}{1:20}\".format(w, regexp.stem(w)))"
      ]
    },
    {
      "cell_type": "code",
      "execution_count": null,
      "metadata": {
        "colab": {
          "base_uri": "https://localhost:8080/"
        },
        "id": "CBAzRlchqXAt",
        "outputId": "b0082a76-c8bb-49fb-b78d-36484d98fd42"
      },
      "outputs": [
        {
          "name": "stdout",
          "output_type": "stream",
          "text": [
            "Word                Porter Stemmer      Snowball Stemmer    Lancaster Stemmer             Regexp Stemmer                          \n",
            "connect             connect             connect             connect                       connect                                 \n",
            "connection          connect             connect             connect                       connec                                  \n",
            "connector           connector           connector           connect                       connector                               \n",
            "connected           connect             connect             connect                       connected                               \n",
            "connecting          connect             connect             connect                       connect                                 \n",
            "connectings         connect             connect             connect                       connecting                              \n"
          ]
        }
      ],
      "source": [
        "word_list = [\"connect\", \"connection\", \"connector\", \"connected\", \"connecting\", \"connectings\"]\n",
        "print(\"{0:20}{1:20}{2:20}{3:30}{4:40}\".format(\"Word\",\"Porter Stemmer\",\"Snowball Stemmer\",\"Lancaster Stemmer\",'Regexp Stemmer'))\n",
        "for w in word_list:\n",
        "    print(\"{0:20}{1:20}{2:20}{3:30}{4:40}\".format(w,ps.stem(w),sb.stem(w),lancaster.stem(w),regexp.stem(w)))"
      ]
    },
    {
      "cell_type": "markdown",
      "metadata": {
        "id": "AU-N--itx0ot"
      },
      "source": [
        "<H1> Lemmantization </H1>"
      ]
    },
    {
      "cell_type": "code",
      "execution_count": null,
      "metadata": {
        "colab": {
          "base_uri": "https://localhost:8080/"
        },
        "id": "T3NUD_w9wIs_",
        "outputId": "34c4ad33-dde1-4561-bbd2-b5b4c993b76c"
      },
      "outputs": [
        {
          "name": "stderr",
          "output_type": "stream",
          "text": [
            "[nltk_data] Downloading package wordnet to /root/nltk_data...\n",
            "[nltk_data] Downloading package omw-1.4 to /root/nltk_data...\n"
          ]
        },
        {
          "data": {
            "text/plain": [
              "True"
            ]
          },
          "execution_count": 29,
          "metadata": {},
          "output_type": "execute_result"
        }
      ],
      "source": [
        "from nltk.stem import WordNetLemmatizer\n",
        "nltk.download(\"wordnet\")\n",
        "nltk.download(\"omw-1.4\")"
      ]
    },
    {
      "cell_type": "code",
      "execution_count": null,
      "metadata": {
        "id": "sIb74sUKwSXm"
      },
      "outputs": [],
      "source": [
        "wnl = WordNetLemmatizer()"
      ]
    },
    {
      "cell_type": "code",
      "execution_count": null,
      "metadata": {
        "colab": {
          "base_uri": "https://localhost:8080/"
        },
        "id": "W9BZ57ozwVbW",
        "outputId": "73d2c5da-0a59-4ab6-e7ed-c960cb1ad98e"
      },
      "outputs": [
        {
          "name": "stdout",
          "output_type": "stream",
          "text": [
            "--Word--            --Stem--            \n",
            "He                  He                  \n",
            "was                 wa                  \n",
            "an                  an                  \n",
            "operator            operator            \n",
            "for                 for                 \n",
            "operting            operting            \n",
            "a                   a                   \n",
            "textile             textile             \n",
            "machine             machine             \n",
            "that                that                \n",
            "works               work                \n",
            "in                  in                  \n",
            "operation           operation           \n",
            "department          department          \n"
          ]
        }
      ],
      "source": [
        "print(\"{0:20}{1:20}\".format(\"--Word--\",\"--Stem--\"))\n",
        "for w in words:\n",
        "    print (\"{0:20}{1:20}\".format(w, wnl.lemmatize(w)))"
      ]
    }
  ],
  "metadata": {
    "colab": {
      "provenance": []
    },
    "kernelspec": {
      "display_name": "Python 3",
      "name": "python3"
    },
    "language_info": {
      "name": "python"
    }
  },
  "nbformat": 4,
  "nbformat_minor": 0
}
