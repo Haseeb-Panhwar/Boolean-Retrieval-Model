{
 "cells": [
  {
   "cell_type": "code",
   "execution_count": 1,
   "metadata": {},
   "outputs": [],
   "source": [
    "import nltk\n",
    "import string\n",
    "import re,os\n",
    "from nltk.stem import PorterStemmer"
   ]
  },
  {
   "cell_type": "code",
   "execution_count": 2,
   "metadata": {},
   "outputs": [
    {
     "name": "stdout",
     "output_type": "stream",
     "text": [
      "['a', 'is', 'the', 'of', 'all', 'and', 'to', 'can', 'be', 'as', 'once', 'for', 'at', 'am', 'are', 'has', 'have', 'had', 'up', 'his', 'her', 'in', 'on', 'no', 'we', 'do']\n"
     ]
    }
   ],
   "source": [
    "stop_words=[]\n",
    "ps = PorterStemmer()\n",
    "with open('Stopword-List.txt','r') as f:\n",
    "    stop_words = f.read().split()\n",
    "\n",
    "print(stop_words)\n",
    "for i,v in enumerate(stop_words):\n",
    "    stop_words[i] = ps.stem(v)\n",
    "\n"
   ]
  },
  {
   "cell_type": "code",
   "execution_count": 3,
   "metadata": {},
   "outputs": [
    {
     "name": "stdout",
     "output_type": "stream",
     "text": [
      "how\n",
      "ai\n"
     ]
    }
   ],
   "source": [
    "re1=r\"[a-z]+((?:-[a-z]+)*)?\"\n",
    "print(re.search(re1,\"\\\"how\\\"\").group())\n",
    "print(ps.stem('ai'))\n"
   ]
  },
  {
   "cell_type": "code",
   "execution_count": 4,
   "metadata": {},
   "outputs": [
    {
     "name": "stdout",
     "output_type": "stream",
     "text": [
      "8\n"
     ]
    }
   ],
   "source": [
    "def isConsecChar(val):\n",
    "    count = 0\n",
    "    max_count=0\n",
    "    for i,v in enumerate(val):\n",
    "        if i==len(val)-1 and count>0:\n",
    "            count+=1\n",
    "            continue\n",
    "        elif i<len(val)-1:\n",
    "            if v==val[i+1]:\n",
    "                count+=1\n",
    "            else:\n",
    "                count=0\n",
    "        if count>max_count:\n",
    "            max_count = count\n",
    "        # print(f'Index: {i} Char: {v} count: {count} max_c: {max_count}')\n",
    "    return max_count+1\n",
    "\n",
    "val = \"bbbbbbbbccccccdeeee\"\n",
    "\n",
    "\n",
    "print(isConsecChar(val))\n",
    "\n"
   ]
  },
  {
   "cell_type": "code",
   "execution_count": 5,
   "metadata": {},
   "outputs": [
    {
     "name": "stdout",
     "output_type": "stream",
     "text": [
      "Total Tokkens:  196879\n",
      "Number of terms: 13357\n",
      "Tokkens drops:  93.21562990466225 %\n",
      "{1: [0, 798, 872, 902, 958, 5903, 8769, 10294, 10439], 12: [498, 5758, 8361], 15: [1166, 1266, 4503, 4670], 16: [774, 842, 1036, 6311, 6944, 8233, 8575], 17: [7628], 2: [3019, 4840, 7767], 22: [65], 7: [225, 1280, 1402, 1827, 3499, 8488, 17512, 18618, 21859, 22513, 24716, 27705, 28052, 28284, 28585, 36388, 38967]}\n"
     ]
    }
   ],
   "source": [
    "inverted_index = {}\n",
    "docs=[]\n",
    "count=0\n",
    "re1=r'[a-z]+((?:-[a-z]+)*)?'\n",
    "filenames=os.listdir('ResearchPapers/')\n",
    "for i in filenames:\n",
    "    doc_id=int(i.strip('.txt'))\n",
    "    docs.append(doc_id)\n",
    "    file = os.path.join('ResearchPapers',i)\n",
    "    with open(file,'r',encoding='utf-8', errors='ignore') as f:\n",
    "        text = f.read()\n",
    "        text=text.lower().split()\n",
    "        count+=len(text)\n",
    "        for index, val in enumerate(text):\n",
    "            if \"@\" not in val and \".co\" not in val and \"http\" not in val and isConsecChar(val)<3:\n",
    "                match = re.search(re1,val)\n",
    "                if match:\n",
    "                    val = match.group()\n",
    "                    if \"-\" in val and val.count('-')==1:\n",
    "                        val = val.replace(\"-\",\"\")\n",
    "                    val= ps.stem(val)\n",
    "                    if (val not in stop_words) and (len(val)>1) and (len(val)<16):\n",
    "                        if val in inverted_index:\n",
    "                            if doc_id in inverted_index[val]:\n",
    "                                inverted_index[val][doc_id].append(index)\n",
    "                            else:\n",
    "                                inverted_index[val][doc_id] = [index]\n",
    "                        else:\n",
    "                            inverted_index[val] = {doc_id: [index]}\n",
    "\n",
    "\n",
    "\n",
    "\n",
    "print(\"Total Tokkens: \",count)\n",
    "print(\"Number of terms:\",len(inverted_index))\n",
    "print(\"Tokkens drops: \",((count-len(inverted_index))/count)*100,\"%\")\n",
    "print(inverted_index[ps.stem('overview')])\n",
    "\n",
    "\n",
    "\n",
    "\n",
    "\n"
   ]
  },
  {
   "cell_type": "code",
   "execution_count": 6,
   "metadata": {},
   "outputs": [],
   "source": [
    "def intersectTerms(term1,term2):\n",
    "    inverted_index_1 = inverted_index[ps.stem(term1)]\n",
    "    inverted_index_2 = inverted_index[ps.stem(term2)]\n",
    "    doc_list=[]\n",
    "    if len(inverted_index_1)<len(inverted_index_2):\n",
    "        for i in inverted_index_1.keys():\n",
    "            if i in inverted_index_2.keys():\n",
    "                doc_list.append(i)\n",
    "    else:\n",
    "        for i in inverted_index_2.keys():\n",
    "            if i in inverted_index_1.keys():\n",
    "                doc_list.append(i)\n",
    "    return doc_list\n",
    "        \n",
    "    "
   ]
  },
  {
   "cell_type": "code",
   "execution_count": 7,
   "metadata": {},
   "outputs": [],
   "source": [
    "def intersectPTerms(term1,term2,k):\n",
    "    inverted_index_1 = inverted_index[ps.stem(term1)]\n",
    "    inverted_index_2 = inverted_index[ps.stem(term2)]\n",
    "    doc_list=set()\n",
    "    if len(inverted_index_1)<len(inverted_index_2):\n",
    "        for i in inverted_index_1.keys():\n",
    "            if i in inverted_index_2.keys():\n",
    "                for x in inverted_index_1[i]:\n",
    "                    for y in inverted_index_2[i]:\n",
    "                        if abs(y-x)<=k:\n",
    "                            doc_list.add(i)\n",
    "    else:\n",
    "        for i in inverted_index_2.keys():\n",
    "            if i in inverted_index_1.keys():\n",
    "                for x in inverted_index_2[i]:\n",
    "                    for y in inverted_index_1[i]:\n",
    "                        if abs(y-x)<=k:\n",
    "                            doc_list.add(i)\n",
    "    return sorted(list(doc_list))"
   ]
  },
  {
   "cell_type": "code",
   "execution_count": 8,
   "metadata": {},
   "outputs": [],
   "source": [
    "def unionTerms(term1,term2):\n",
    "    inverted_index_1 = set(inverted_index[ps.stem(term1)].keys())\n",
    "    inverted_index_2 = set(inverted_index[ps.stem(term2)].keys())\n",
    "    inverted_index_1.union(inverted_index_2)\n",
    "    return sorted(list(inverted_index_1))\n",
    "    "
   ]
  },
  {
   "cell_type": "code",
   "execution_count": 9,
   "metadata": {},
   "outputs": [],
   "source": [
    "def inverseTerms(term):\n",
    "    inverted_index_set = set(inverted_index[ps.stem(term)].keys())\n",
    "    return list((set(docs)).difference(inverted_index_set))"
   ]
  },
  {
   "cell_type": "code",
   "execution_count": 10,
   "metadata": {},
   "outputs": [
    {
     "name": "stdout",
     "output_type": "stream",
     "text": [
      "dict_keys([12, 16, 17, 18, 2, 21, 22, 24, 26, 7, 8])\n",
      "[1, 3, 9, 11, 13, 14, 15, 23, 25]\n",
      "[1, 11, 12, 13, 14, 15, 16, 17, 18, 2, 21, 22, 23, 24, 25, 26, 3, 7, 8, 9]\n"
     ]
    }
   ],
   "source": [
    "print(inverted_index[ps.stem('transformer')].keys())\n",
    "print(inverseTerms('transformer'))\n",
    "print(docs)\n"
   ]
  },
  {
   "cell_type": "code",
   "execution_count": 16,
   "metadata": {},
   "outputs": [
    {
     "name": "stdout",
     "output_type": "stream",
     "text": [
      "[11]\n"
     ]
    }
   ],
   "source": [
    "user_input = (input(\"Enter query: \")).lower()\n",
    "user_input_list = user_input.split()\n",
    "intersection_list=[]\n",
    "inter_lists=[]\n",
    "union_list=[]\n",
    "inverse_list=[]\n",
    "inv_list=[]\n",
    "result = set() \n",
    "if \"or\" in user_input_list: \n",
    "    inter_list = user_input.split(\" or \") \n",
    "    for x in inter_list: \n",
    "        if \"and\" in x:  # Y\n",
    "            inters = x.split(\" and \") \n",
    "            for y in inters:  \n",
    "                if \"not\" in y: \n",
    "                    inverse_term = y.replace(\"not \",'').strip() \n",
    "                    inv_list = inverseTerms(inverse_term) \n",
    "                else:\n",
    "                    inverse_term = y.strip() \n",
    "                    inv_list = list(inverted_index[ps.stem(inverse_term)].keys())\n",
    "                intersection_list.append(inv_list)  \n",
    "            result=set(intersection_list[0]) \n",
    "            for x in intersection_list:\n",
    "                result = result.intersection(set(x)) \n",
    "            intersection_list=[]\n",
    "            for i in list(result):\n",
    "                union_list.append(i)\n",
    "        else: \n",
    "            if \"not\" in x:  \n",
    "                inverse_term = x.replace(\"not \",'').strip() \n",
    "                inv_list = inverseTerms(inverse_term) \n",
    "            else: \n",
    "                inverse_term = x.strip() \n",
    "                inv_list = list(inverted_index[ps.stem(inverse_term)].keys()) \n",
    "            for i in inv_list:\n",
    "                union_list.append(i) \n",
    "        \n",
    "    result = set(union_list) \n",
    "    \n",
    "elif \"and\" in user_input_list: \n",
    "    inters = user_input.split(\" and \") \n",
    "    for y in inters: \n",
    "        if \"not\" in y: \n",
    "            inverse_term = y.replace(\"not \",'').strip()\n",
    "            inv_list = inverseTerms(inverse_term) \n",
    "        else:\n",
    "            inverse_term = y.strip()\n",
    "            inv_list = list(inverted_index[ps.stem(inverse_term)].keys())\n",
    "        intersection_list.append(inv_list)\n",
    "    result=set(intersection_list[0]) \n",
    "    for x in intersection_list:\n",
    "        result = result.intersection(set(x))\n",
    "\n",
    "elif \"not\" in user_input_list:\n",
    "    inverse_term = user_input.replace(\"not \",'').strip()\n",
    "    result = inverseTerms(inverse_term)\n",
    "    \n",
    "elif \"/\" in user_input:\n",
    "    temp_list = user_input.split(\" /\")\n",
    "    terms = temp_list[0].split()\n",
    "    k = int(temp_list[1])\n",
    "    result = intersectPTerms(terms[0],terms[1],k)\n",
    "    \n",
    "    \n",
    "print(sorted(list(result)))\n",
    "            "
   ]
  },
  {
   "cell_type": "code",
   "execution_count": 13,
   "metadata": {},
   "outputs": [
    {
     "name": "stdout",
     "output_type": "stream",
     "text": [
      "[42, 4219, 7822, 8225, 10230, 10314, 10347, 10739, 11301, 11941, 12156, 21177, 21247]\n",
      "[46, 146, 222, 894, 2500, 4247, 5459, 5938, 6516, 6777, 8344, 8409, 8577, 8647, 9031, 9082, 10003, 10124, 10941, 11204, 11329, 11362, 11426, 11538, 11559, 11635, 11776, 11793, 11880, 11896, 11973, 12147, 12167, 12246, 12302, 12318, 12424, 12501, 12610, 12679, 13070, 13238, 17788, 19339, 20129, 21085, 21141, 21154, 21183, 21254, 21545]\n",
      "redund\n"
     ]
    }
   ],
   "source": [
    "# NOT cancer AND NOT overview OR NOT heart\n",
    "# print(intersectTerms('heart','cancer'))\n",
    "# print(intersectTerms('learning','feature'))\n",
    "\n",
    "# print(\"not tdd\".replace(\"not \",''))\n",
    "# print(inverseTerms('heart'))\n",
    "# print(inverseTerms(\"overview\"))\n",
    "print(inverted_index[ps.stem('past')][12])\n",
    "print(inverted_index[ps.stem('research')][12])\n",
    "\n",
    "# print(inverted_index[ps.stem('overview')][17])\n",
    "# print(inverted_index[ps.stem('learning')][17])\n",
    "print(ps.stem('redundency'))\n",
    "\n",
    "# print(inverseTerms('overview'))\n",
    "# print(inverseTerms('cancer'))\n",
    "# print(inverseTerms('heart'))\n",
    "# print(sorted_inverted_index[ps.stem('heart')].keys())\n",
    "\n"
   ]
  }
 ],
 "metadata": {
  "kernelspec": {
   "display_name": "Python 3",
   "language": "python",
   "name": "python3"
  },
  "language_info": {
   "codemirror_mode": {
    "name": "ipython",
    "version": 3
   },
   "file_extension": ".py",
   "mimetype": "text/x-python",
   "name": "python",
   "nbconvert_exporter": "python",
   "pygments_lexer": "ipython3",
   "version": "3.11.4"
  }
 },
 "nbformat": 4,
 "nbformat_minor": 2
}
