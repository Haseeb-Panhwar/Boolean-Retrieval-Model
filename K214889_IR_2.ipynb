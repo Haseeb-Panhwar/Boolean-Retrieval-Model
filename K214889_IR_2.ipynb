{
 "cells": [
  {
   "cell_type": "code",
   "execution_count": 1,
   "metadata": {},
   "outputs": [],
   "source": [
    "import nltk\n",
    "import string\n",
    "import re,os\n",
    "from nltk.stem import PorterStemmer"
   ]
  },
  {
   "cell_type": "code",
   "execution_count": 2,
   "metadata": {},
   "outputs": [
    {
     "name": "stdout",
     "output_type": "stream",
     "text": [
      "['a', 'is', 'the', 'of', 'all', 'and', 'to', 'can', 'be', 'as', 'once', 'for', 'at', 'am', 'are', 'has', 'have', 'had', 'up', 'his', 'her', 'in', 'on', 'no', 'we', 'do']\n"
     ]
    }
   ],
   "source": [
    "stop_words=[]\n",
    "ps = PorterStemmer()\n",
    "with open('Stopword-List.txt','r') as f:\n",
    "    stop_words = f.read().split()\n",
    "\n",
    "print(stop_words)\n",
    "for i,v in enumerate(stop_words):\n",
    "    stop_words[i] = ps.stem(v)\n",
    "\n"
   ]
  },
  {
   "cell_type": "code",
   "execution_count": 3,
   "metadata": {},
   "outputs": [
    {
     "name": "stdout",
     "output_type": "stream",
     "text": [
      "intelli-gence\n"
     ]
    }
   ],
   "source": [
    "re1=r\"\\w+(?:-\\w+)?\"\n",
    "print(re.search(re1,\"\\\"intelli-gence.\\\"\").group())\n"
   ]
  },
  {
   "cell_type": "code",
   "execution_count": 4,
   "metadata": {},
   "outputs": [
    {
     "name": "stdout",
     "output_type": "stream",
     "text": [
      "Total Tokkens:  196879\n",
      "Number of terms: 14728\n",
      "Tokkens drops:  7.480736899313792\n",
      "{2: [7318], 7: [30092, 34521], 8: [1783], 11: [132, 818, 828], 16: [7181, 13369], 22: [14286], 24: [745, 4210], 26: [611, 5211, 5286, 9658, 10358, 10389, 10391]}\n"
     ]
    }
   ],
   "source": [
    "inverted_index = {}\n",
    "docs=[]\n",
    "count=0\n",
    "re1=r'[a-z]+(?:-[a-z]+)?'\n",
    "filenames=os.listdir('ResearchPapers/')\n",
    "for i in filenames:\n",
    "    doc_id=int(i.strip('.txt'))\n",
    "    docs.append(doc_id)\n",
    "    file = os.path.join('ResearchPapers',i)\n",
    "    with open(file,'r',encoding='utf-8', errors='ignore') as f:\n",
    "        text = f.read()\n",
    "        text=text.lower().split()\n",
    "        count+=len(text)\n",
    "        for index, val in enumerate(text):\n",
    "            match = re.search(re1,val)\n",
    "            if match:\n",
    "                val = match.group()\n",
    "                if \"-\" in val:\n",
    "                    val = val.replace(\"-\",\"\")\n",
    "                val= ps.stem(val)\n",
    "                if (val not in stop_words) and (len(val)>2):\n",
    "                    if val in inverted_index:\n",
    "                        if doc_id in inverted_index[val]:\n",
    "                            inverted_index[val][doc_id].append(index)\n",
    "                        else:\n",
    "                            inverted_index[val][doc_id] = [index]\n",
    "                    else:\n",
    "                        inverted_index[val] = {doc_id: [index]}\n",
    "\n",
    "sorted_inverted_index = dict(sorted(inverted_index.items()))\n",
    "for key,nested_dic in sorted_inverted_index.items():\n",
    "    sorted_inverted_index[key]=dict(sorted(nested_dic.items()))\n",
    "# print(inverted_index)\n",
    "docs = sorted(docs)\n",
    "\n",
    "print(\"Total Tokkens: \",count)\n",
    "print(\"Number of terms:\",len(sorted_inverted_index))\n",
    "print(\"Tokkens drops: \",(len(sorted_inverted_index)/count)*100)\n",
    "print(sorted_inverted_index[ps.stem('cancer')])\n",
    "\n",
    "\n",
    "\n",
    "\n",
    "\n"
   ]
  },
  {
   "cell_type": "code",
   "execution_count": 5,
   "metadata": {},
   "outputs": [],
   "source": [
    "def intersectTerms(term1,term2):\n",
    "    inverted_index_1 = sorted_inverted_index[ps.stem(term1)]\n",
    "    inverted_index_2 = sorted_inverted_index[ps.stem(term2)]\n",
    "    doc_list=[]\n",
    "    if len(inverted_index_1)<len(inverted_index_2):\n",
    "        for i in inverted_index_1.keys():\n",
    "            if i in inverted_index_2.keys():\n",
    "                doc_list.append(i)\n",
    "    else:\n",
    "        for i in inverted_index_2.keys():\n",
    "            if i in inverted_index_1.keys():\n",
    "                doc_list.append(i)\n",
    "    return doc_list\n",
    "        \n",
    "    "
   ]
  },
  {
   "cell_type": "code",
   "execution_count": 6,
   "metadata": {},
   "outputs": [],
   "source": [
    "def intersectPTerms(term1,term2,k):\n",
    "    inverted_index_1 = sorted_inverted_index[ps.stem(term1)]\n",
    "    inverted_index_2 = sorted_inverted_index[ps.stem(term2)]\n",
    "    doc_list=set()\n",
    "    if len(inverted_index_1)<len(inverted_index_2):\n",
    "        for i in inverted_index_1.keys():\n",
    "            if i in inverted_index_2.keys():\n",
    "                for x in inverted_index_1[i]:\n",
    "                    for y in inverted_index_2[i]:\n",
    "                        if abs(y-x)<=k:\n",
    "                            doc_list.add(i)\n",
    "    else:\n",
    "        for i in inverted_index_2.keys():\n",
    "            if i in inverted_index_1.keys():\n",
    "                for x in inverted_index_2[i]:\n",
    "                    for y in inverted_index_1[i]:\n",
    "                        if abs(y-x)<=k:\n",
    "                            doc_list.add(i)\n",
    "    return sorted(list(doc_list))"
   ]
  },
  {
   "cell_type": "code",
   "execution_count": 7,
   "metadata": {},
   "outputs": [],
   "source": [
    "def unionTerms(term1,term2):\n",
    "    inverted_index_1 = set(sorted_inverted_index[ps.stem(term1)].keys())\n",
    "    inverted_index_2 = set(sorted_inverted_index[ps.stem(term2)].keys())\n",
    "    inverted_index_1.union(inverted_index_2)\n",
    "    return sorted(list(inverted_index_1))\n",
    "    "
   ]
  },
  {
   "cell_type": "code",
   "execution_count": 8,
   "metadata": {},
   "outputs": [],
   "source": [
    "def inverseTerms(term):\n",
    "    inverted_index_set = set(sorted_inverted_index[ps.stem(term)].keys())\n",
    "    return list((set(docs)).difference(inverted_index_set))"
   ]
  },
  {
   "cell_type": "code",
   "execution_count": 9,
   "metadata": {},
   "outputs": [
    {
     "name": "stdout",
     "output_type": "stream",
     "text": [
      "dict_keys([2, 7, 8, 12, 16, 17, 18, 21, 22, 24, 26])\n",
      "[1, 3, 9, 11, 13, 14, 15, 23, 25]\n",
      "[1, 2, 3, 7, 8, 9, 11, 12, 13, 14, 15, 16, 17, 18, 21, 22, 23, 24, 25, 26]\n"
     ]
    }
   ],
   "source": [
    "print(sorted_inverted_index[ps.stem('transformer')].keys())\n",
    "print(inverseTerms('transformer'))\n",
    "print(docs)\n"
   ]
  },
  {
   "cell_type": "code",
   "execution_count": 38,
   "metadata": {},
   "outputs": [
    {
     "name": "stdout",
     "output_type": "stream",
     "text": [
      "[2, 7, 16, 22]\n"
     ]
    }
   ],
   "source": [
    "user_input = (input(\"Enter query: \")).lower()\n",
    "intersection_list=[]\n",
    "inter_lists=[]\n",
    "union_list=[]\n",
    "inverse_list=[]\n",
    "inv_list=[]\n",
    "result = set()\n",
    "if \"and\" in user_input: \n",
    "    inter_list = user_input.split(\" and \") \n",
    "    for x in inter_list: \n",
    "        if \"or\" in x: \n",
    "            unions = x.split(\" or \")\n",
    "            for y in unions:\n",
    "                if \"not\" in y:\n",
    "                    inverse_term = y.lstrip(\"not \")\n",
    "                    inv_list = inverseTerms(inverse_term)\n",
    "                else:\n",
    "                    inverse_term = y.strip()\n",
    "                    inv_list = list(sorted_inverted_index[ps.stem(inverse_term)].keys())\n",
    "                for i in inv_list:\n",
    "                    union_list.append(i)\n",
    "        else: \n",
    "            if \"not\" in x: \n",
    "                inverse_term = x.lstrip(\"not \") \n",
    "                inv_list = inverseTerms(inverse_term)\n",
    "            else: \n",
    "                inverse_term = x.strip() \n",
    "                inv_list = list(sorted_inverted_index[ps.stem(inverse_term)].keys()) \n",
    "            for i in inv_list:\n",
    "                union_list.append(i) \n",
    "        intersection_list.append(union_list) \n",
    "        union_list=[] \n",
    "    result=set(intersection_list[0]) \n",
    "    for x in intersection_list:\n",
    "        result = result.intersection(set(x)) \n",
    "    # print(intersection_list)\n",
    "    \n",
    "elif \"or\" in user_input:\n",
    "    unions = user_input.split(\" or \")\n",
    "    for y in unions:\n",
    "        if \"not\" in y:\n",
    "            inverse_term = y.lstrip(\"not \")\n",
    "            inv_list = inverseTerms(inverse_term)\n",
    "        else:\n",
    "            inverse_term = y.strip()\n",
    "            inv_list = list(sorted_inverted_index[ps.stem(inverse_term)].keys())\n",
    "        for i in inv_list:\n",
    "            union_list.append(i)\n",
    "    result = set(union_list)\n",
    "\n",
    "elif \"not\" in user_input:\n",
    "    inverse_term = user_input.lstrip(\"not \")\n",
    "    result = inverseTerms(inverse_term)\n",
    "    \n",
    "    \n",
    "    \n",
    "print(sorted(list(result)))\n",
    "            \n",
    "                    \n"
   ]
  },
  {
   "cell_type": "code",
   "execution_count": 37,
   "metadata": {},
   "outputs": [
    {
     "name": "stdout",
     "output_type": "stream",
     "text": [
      "[2, 7, 16, 22]\n",
      "dict_keys([2, 7, 8, 11, 16, 22, 24, 26])\n",
      "dict_keys([1, 2, 7, 12, 15, 16, 17, 22])\n",
      "[1, 3, 9, 12, 13, 14, 15, 17, 18, 21, 23, 25]\n"
     ]
    }
   ],
   "source": [
    "# NOT cancer AND NOT overview OR NOT heart\n",
    "print(intersectTerms('overview','cancer'))\n",
    "print(sorted_inverted_index[ps.stem('cancer')].keys())\n",
    "print(sorted_inverted_index[ps.stem('overview')].keys())\n",
    "# print(inverseTerms('overview'))\n",
    "print(inverseTerms('cancer'))\n",
    "# print(inverseTerms('heart'))\n",
    "# print(sorted_inverted_index[ps.stem('heart')].keys())\n",
    "\n"
   ]
  }
 ],
 "metadata": {
  "kernelspec": {
   "display_name": "Python 3",
   "language": "python",
   "name": "python3"
  },
  "language_info": {
   "codemirror_mode": {
    "name": "ipython",
    "version": 3
   },
   "file_extension": ".py",
   "mimetype": "text/x-python",
   "name": "python",
   "nbconvert_exporter": "python",
   "pygments_lexer": "ipython3",
   "version": "3.11.4"
  }
 },
 "nbformat": 4,
 "nbformat_minor": 2
}
