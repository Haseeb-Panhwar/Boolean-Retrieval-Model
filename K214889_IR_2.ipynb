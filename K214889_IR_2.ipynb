{
 "cells": [
  {
   "cell_type": "code",
   "execution_count": 25,
   "metadata": {},
   "outputs": [],
   "source": [
    "import nltk\n",
    "import string\n",
    "import re,os\n",
    "from nltk.stem import PorterStemmer"
   ]
  },
  {
   "cell_type": "code",
   "execution_count": 26,
   "metadata": {},
   "outputs": [
    {
     "name": "stdout",
     "output_type": "stream",
     "text": [
      "['a', 'is', 'the', 'of', 'all', 'and', 'to', 'can', 'be', 'as', 'once', 'for', 'at', 'am', 'are', 'has', 'have', 'had', 'up', 'his', 'her', 'in', 'on', 'no', 'we', 'do']\n"
     ]
    }
   ],
   "source": [
    "stop_words=[]\n",
    "ps = PorterStemmer()\n",
    "with open('Stopword-List.txt','r') as f:\n",
    "    stop_words = f.read().split()\n",
    "\n",
    "print(stop_words)\n",
    "for i,v in enumerate(stop_words):\n",
    "    stop_words[i] = ps.stem(v)\n",
    "\n"
   ]
  },
  {
   "cell_type": "code",
   "execution_count": 27,
   "metadata": {},
   "outputs": [
    {
     "name": "stdout",
     "output_type": "stream",
     "text": [
      "how\n",
      "ai\n"
     ]
    }
   ],
   "source": [
    "re1=r\"[a-z]+((?:-[a-z]+)*)?\"\n",
    "print(re.search(re1,\"\\\"how\\\"\").group())\n",
    "print(ps.stem('ai'))\n"
   ]
  },
  {
   "cell_type": "code",
   "execution_count": 28,
   "metadata": {},
   "outputs": [
    {
     "name": "stdout",
     "output_type": "stream",
     "text": [
      "8\n"
     ]
    }
   ],
   "source": [
    "def isConsecChar(val):\n",
    "    count = 0\n",
    "    max_count=0\n",
    "    for i,v in enumerate(val):\n",
    "        if i==len(val)-1 and count>0:\n",
    "            count+=1\n",
    "            continue\n",
    "        elif i<len(val)-1:\n",
    "            if v==val[i+1]:\n",
    "                count+=1\n",
    "            else:\n",
    "                count=0\n",
    "        if count>max_count:\n",
    "            max_count = count\n",
    "        # print(f'Index: {i} Char: {v} count: {count} max_c: {max_count}')\n",
    "    return max_count+1\n",
    "\n",
    "val = \"bbbbbbbbccccccdeeee\"\n",
    "\n",
    "\n",
    "print(isConsecChar(val))\n",
    "\n"
   ]
  },
  {
   "cell_type": "code",
   "execution_count": 39,
   "metadata": {},
   "outputs": [
    {
     "name": "stdout",
     "output_type": "stream",
     "text": [
      "Total Tokkens:  196879\n",
      "Number of terms: 13357\n",
      "Tokkens drops:  93.21562990466225 %\n",
      "{1: [0, 798, 872, 902, 958, 5903, 8769, 10294, 10439], 12: [498, 5758, 8361], 15: [1166, 1266, 4503, 4670], 16: [774, 842, 1036, 6311, 6944, 8233, 8575], 17: [7628], 2: [3019, 4840, 7767], 22: [65], 7: [225, 1280, 1402, 1827, 3499, 8488, 17512, 18618, 21859, 22513, 24716, 27705, 28052, 28284, 28585, 36388, 38967]}\n"
     ]
    }
   ],
   "source": [
    "inverted_index = {}\n",
    "docs=[]\n",
    "count=0\n",
    "re1=r'[a-z]+((?:-[a-z]+)*)?'\n",
    "filenames=os.listdir('ResearchPapers/')\n",
    "for i in filenames:\n",
    "    doc_id=int(i.strip('.txt'))\n",
    "    docs.append(doc_id)\n",
    "    file = os.path.join('ResearchPapers',i)\n",
    "    with open(file,'r',encoding='utf-8', errors='ignore') as f:\n",
    "        text = f.read()\n",
    "        text=text.lower().split()\n",
    "        count+=len(text)\n",
    "        for index, val in enumerate(text):\n",
    "            if \"@\" not in val and \".co\" not in val and \"http\" not in val and isConsecChar(val)<3:\n",
    "                match = re.search(re1,val)\n",
    "                if match:\n",
    "                    val = match.group()\n",
    "                    if \"-\" in val and val.count('-')==1:\n",
    "                        val = val.replace(\"-\",\"\")\n",
    "                    val= ps.stem(val)\n",
    "                    if (val not in stop_words) and (len(val)>1) and (len(val)<16):\n",
    "                        if val in inverted_index:\n",
    "                            if doc_id in inverted_index[val]:\n",
    "                                inverted_index[val][doc_id].append(index)\n",
    "                            else:\n",
    "                                inverted_index[val][doc_id] = [index]\n",
    "                        else:\n",
    "                            inverted_index[val] = {doc_id: [index]}\n",
    "\n",
    "\n",
    "\n",
    "\n",
    "print(\"Total Tokkens: \",count)\n",
    "print(\"Number of terms:\",len(inverted_index))\n",
    "print(\"Tokkens drops: \",((count-len(inverted_index))/count)*100,\"%\")\n",
    "print(inverted_index[ps.stem('overview')])\n",
    "\n",
    "\n",
    "\n",
    "\n",
    "\n"
   ]
  },
  {
   "cell_type": "code",
   "execution_count": 30,
   "metadata": {},
   "outputs": [],
   "source": [
    "def intersectTerms(term1,term2):\n",
    "    inverted_index_1 = inverted_index[ps.stem(term1)]\n",
    "    inverted_index_2 = inverted_index[ps.stem(term2)]\n",
    "    doc_list=[]\n",
    "    if len(inverted_index_1)<len(inverted_index_2):\n",
    "        for i in inverted_index_1.keys():\n",
    "            if i in inverted_index_2.keys():\n",
    "                doc_list.append(i)\n",
    "    else:\n",
    "        for i in inverted_index_2.keys():\n",
    "            if i in inverted_index_1.keys():\n",
    "                doc_list.append(i)\n",
    "    return doc_list\n",
    "        \n",
    "    "
   ]
  },
  {
   "cell_type": "code",
   "execution_count": 31,
   "metadata": {},
   "outputs": [],
   "source": [
    "def intersectPTerms(term1,term2,k):\n",
    "    inverted_index_1 = inverted_index[ps.stem(term1)]\n",
    "    inverted_index_2 = inverted_index[ps.stem(term2)]\n",
    "    doc_list=set()\n",
    "    if len(inverted_index_1)<len(inverted_index_2):\n",
    "        for i in inverted_index_1.keys():\n",
    "            if i in inverted_index_2.keys():\n",
    "                for x in inverted_index_1[i]:\n",
    "                    for y in inverted_index_2[i]:\n",
    "                        if abs(y-x)<=k:\n",
    "                            doc_list.add(i)\n",
    "    else:\n",
    "        for i in inverted_index_2.keys():\n",
    "            if i in inverted_index_1.keys():\n",
    "                for x in inverted_index_2[i]:\n",
    "                    for y in inverted_index_1[i]:\n",
    "                        if abs(y-x)<=k:\n",
    "                            doc_list.add(i)\n",
    "    return sorted(list(doc_list))"
   ]
  },
  {
   "cell_type": "code",
   "execution_count": 32,
   "metadata": {},
   "outputs": [],
   "source": [
    "def unionTerms(term1,term2):\n",
    "    inverted_index_1 = set(inverted_index[ps.stem(term1)].keys())\n",
    "    inverted_index_2 = set(inverted_index[ps.stem(term2)].keys())\n",
    "    inverted_index_1.union(inverted_index_2)\n",
    "    return sorted(list(inverted_index_1))\n",
    "    "
   ]
  },
  {
   "cell_type": "code",
   "execution_count": 33,
   "metadata": {},
   "outputs": [],
   "source": [
    "def inverseTerms(term):\n",
    "    inverted_index_set = set(inverted_index[ps.stem(term)].keys())\n",
    "    return list((set(docs)).difference(inverted_index_set))"
   ]
  },
  {
   "cell_type": "code",
   "execution_count": 34,
   "metadata": {},
   "outputs": [
    {
     "name": "stdout",
     "output_type": "stream",
     "text": [
      "dict_keys([12, 16, 17, 18, 2, 21, 22, 24, 26, 7, 8])\n",
      "[1, 3, 9, 11, 13, 14, 15, 23, 25]\n",
      "[1, 2, 3, 7, 8, 9, 11, 12, 13, 14, 15, 16, 17, 18, 21, 22, 23, 24, 25, 26]\n"
     ]
    }
   ],
   "source": [
    "print(inverted_index[ps.stem('transformer')].keys())\n",
    "print(inverseTerms('transformer'))\n",
    "print(docs)\n"
   ]
  },
  {
   "cell_type": "code",
   "execution_count": 66,
   "metadata": {},
   "outputs": [
    {
     "name": "stdout",
     "output_type": "stream",
     "text": [
      "['overview learning', '33']\n",
      "[1, 2, 7, 15, 16, 17]\n"
     ]
    }
   ],
   "source": [
    "user_input = (input(\"Enter query: \")).lower()\n",
    "intersection_list=[]\n",
    "inter_lists=[]\n",
    "union_list=[]\n",
    "inverse_list=[]\n",
    "inv_list=[]\n",
    "result = set()\n",
    "if \"and\" in user_input: \n",
    "    inter_list = user_input.split(\" and \") \n",
    "    for x in inter_list: \n",
    "        if \"or\" in x: \n",
    "            unions = x.split(\" or \")\n",
    "            for y in unions:\n",
    "                if \"not\" in y:\n",
    "                    inverse_term = y.replace(\"not \",'').strip()\n",
    "                    inv_list = inverseTerms(inverse_term)\n",
    "                else:\n",
    "                    inverse_term = y.strip()\n",
    "                    inv_list = list(inverted_index[ps.stem(inverse_term)].keys())\n",
    "                for i in inv_list:\n",
    "                    union_list.append(i)\n",
    "        else: \n",
    "            if \"not\" in x: \n",
    "                inverse_term = x.replace(\"not \",'').strip()\n",
    "                inv_list = inverseTerms(inverse_term)\n",
    "            else: \n",
    "                inverse_term = x.strip() \n",
    "                inv_list = list(inverted_index[ps.stem(inverse_term)].keys()) \n",
    "            for i in inv_list:\n",
    "                union_list.append(i) \n",
    "        intersection_list.append(union_list) \n",
    "        union_list=[] \n",
    "    result=set(intersection_list[0]) \n",
    "    for x in intersection_list:\n",
    "        result = result.intersection(set(x)) \n",
    "    # print(intersection_list)\n",
    "    \n",
    "elif \"or\" in user_input:\n",
    "    unions = user_input.split(\" or \")\n",
    "    for y in unions:\n",
    "        if \"not\" in y:\n",
    "            inverse_term = y.replace(\"not \",'').strip()\n",
    "            inv_list = inverseTerms(inverse_term)\n",
    "        else:\n",
    "            inverse_term = y.strip()\n",
    "            inv_list = list(inverted_index[ps.stem(inverse_term)].keys())\n",
    "        for i in inv_list:\n",
    "            union_list.append(i)\n",
    "    result = set(union_list)\n",
    "\n",
    "elif \"not\" in user_input:\n",
    "    inverse_term = user_input.replace(\"not \",'').strip()\n",
    "    result = inverseTerms(inverse_term)\n",
    "    \n",
    "elif \"/\" in user_input:\n",
    "    temp_list = user_input.split(\" / \")\n",
    "    print(temp_list)\n",
    "    terms = temp_list[0].split()\n",
    "    k = int(temp_list[1])\n",
    "    result = intersectPTerms(terms[0],terms[1],k)\n",
    "    \n",
    "    \n",
    "print(sorted(list(result)))\n",
    "            \n",
    "                    \n"
   ]
  },
  {
   "cell_type": "code",
   "execution_count": 69,
   "metadata": {},
   "outputs": [
    {
     "name": "stdout",
     "output_type": "stream",
     "text": [
      "tdd\n",
      "[2, 12, 13, 14, 15, 16, 17, 18, 21, 22, 23, 24, 25]\n",
      "[3, 8, 9, 11, 13, 14, 18, 21, 23, 24, 25, 26]\n",
      "[7628]\n",
      "[101, 364, 546, 815, 1492, 2165, 2304, 2764, 3753, 3883, 4372, 4487, 4583, 4586, 4589, 4592, 4600, 4709, 4720, 4780, 4784, 4790, 4864, 4880, 4905, 4927, 4938, 5003, 5006, 5014, 5038, 5049, 5057, 5186, 5458, 5568, 5591, 5623, 5651, 5692, 5752, 5875, 5926, 5935, 5979, 6004, 6030, 6039, 6075, 6110, 6120, 6129, 6154, 6231, 6237, 6257, 6275, 6301, 6340, 6364, 6376, 6412, 6446, 6500, 6510, 6614, 6693, 6731, 6827, 7404, 7602, 7769, 7917, 7955, 7979]\n",
      "learn\n"
     ]
    }
   ],
   "source": [
    "# NOT cancer AND NOT overview OR NOT heart\n",
    "# print(intersectTerms('heart','cancer'))\n",
    "print(\"not tdd\".replace(\"not \",''))\n",
    "print(inverseTerms('heart'))\n",
    "print(inverseTerms(\"overview\"))\n",
    "# print(inverted_index[ps.stem('heart')].keys())\n",
    "print(inverted_index[ps.stem('overview')][17])\n",
    "print(inverted_index[ps.stem('learning')][17])\n",
    "print(ps.stem('learning'))\n",
    "\n",
    "# print(inverseTerms('overview'))\n",
    "# print(inverseTerms('cancer'))\n",
    "# print(inverseTerms('heart'))\n",
    "# print(sorted_inverted_index[ps.stem('heart')].keys())\n",
    "\n"
   ]
  }
 ],
 "metadata": {
  "kernelspec": {
   "display_name": "Python 3",
   "language": "python",
   "name": "python3"
  },
  "language_info": {
   "codemirror_mode": {
    "name": "ipython",
    "version": 3
   },
   "file_extension": ".py",
   "mimetype": "text/x-python",
   "name": "python",
   "nbconvert_exporter": "python",
   "pygments_lexer": "ipython3",
   "version": "3.11.4"
  }
 },
 "nbformat": 4,
 "nbformat_minor": 2
}
