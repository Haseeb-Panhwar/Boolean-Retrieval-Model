{
 "cells": [
  {
   "cell_type": "code",
   "execution_count": 1,
   "metadata": {},
   "outputs": [],
   "source": [
    "import nltk\n",
    "import string\n",
    "import re,os\n",
    "from nltk.stem import PorterStemmer"
   ]
  },
  {
   "cell_type": "code",
   "execution_count": 2,
   "metadata": {},
   "outputs": [
    {
     "name": "stdout",
     "output_type": "stream",
     "text": [
      "['a', 'is', 'the', 'of', 'all', 'and', 'to', 'can', 'be', 'as', 'once', 'for', 'at', 'am', 'are', 'has', 'have', 'had', 'up', 'his', 'her', 'in', 'on', 'no', 'we', 'do']\n"
     ]
    }
   ],
   "source": [
    "stop_words=[]\n",
    "ps = PorterStemmer()\n",
    "with open('Stopword-List.txt','r') as f:\n",
    "    stop_words = f.read().split()\n",
    "\n",
    "print(stop_words)\n",
    "for i,v in enumerate(stop_words):\n",
    "    stop_words[i] = ps.stem(v)\n",
    "\n"
   ]
  },
  {
   "cell_type": "code",
   "execution_count": 3,
   "metadata": {},
   "outputs": [
    {
     "name": "stdout",
     "output_type": "stream",
     "text": [
      "hello-world\n"
     ]
    }
   ],
   "source": [
    "re1=r\"\\w+(?:-\\w+)?\"\n",
    "print(re.search(re1,\"hello-world apk\").group())\n"
   ]
  },
  {
   "cell_type": "code",
   "execution_count": 4,
   "metadata": {},
   "outputs": [
    {
     "name": "stdout",
     "output_type": "stream",
     "text": [
      "Total Tokkens:  196879\n",
      "Number of terms: 14938\n",
      "Tokkens drops:  7.587401398828722\n"
     ]
    }
   ],
   "source": [
    "inverted_index = {}\n",
    "count=0\n",
    "re1=r'[a-z]+(?:-[a-z]+)?'\n",
    "filenames=os.listdir('ResearchPapers/')\n",
    "for i in filenames:\n",
    "    doc_id=int(i.strip('.txt'))\n",
    "    file = os.path.join('ResearchPapers',i)\n",
    "    with open(file,'r',encoding='utf-8', errors='ignore') as f:\n",
    "        text = f.read()\n",
    "        text=text.lower().split()\n",
    "        count+=len(text)\n",
    "        for index, val in enumerate(text):\n",
    "            match = re.search(re1,val)\n",
    "            if match:\n",
    "                val = match.group()\n",
    "                val= ps.stem(val)\n",
    "                if (val not in stop_words) and (len(val)>2):\n",
    "                    if val in inverted_index:\n",
    "                        if doc_id in inverted_index[val]:\n",
    "                            inverted_index[val][doc_id].append(index)\n",
    "                        else:\n",
    "                            inverted_index[val][doc_id] = [index]\n",
    "                    else:\n",
    "                        inverted_index[val] = {doc_id: [index]}\n",
    "\n",
    "sorted_inverted_index = dict(sorted(inverted_index.items()))\n",
    "for key,nested_dic in sorted_inverted_index.items():\n",
    "    sorted_inverted_index[key]=dict(sorted(nested_dic.items()))\n",
    "# print(inverted_index)\n",
    "\n",
    "print(\"Total Tokkens: \",count)\n",
    "print(\"Number of terms:\",len(sorted_inverted_index))\n",
    "print(\"Tokkens drops: \",(len(sorted_inverted_index)/count)*100)\n",
    "\n",
    "\n",
    "\n",
    "\n",
    "\n"
   ]
  }
 ],
 "metadata": {
  "kernelspec": {
   "display_name": "Python 3",
   "language": "python",
   "name": "python3"
  },
  "language_info": {
   "codemirror_mode": {
    "name": "ipython",
    "version": 3
   },
   "file_extension": ".py",
   "mimetype": "text/x-python",
   "name": "python",
   "nbconvert_exporter": "python",
   "pygments_lexer": "ipython3",
   "version": "3.11.4"
  }
 },
 "nbformat": 4,
 "nbformat_minor": 2
}
